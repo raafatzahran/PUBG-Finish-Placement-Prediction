{
 "cells": [
  {
   "cell_type": "markdown",
   "metadata": {
    "_cell_guid": "b1076dfc-b9ad-4769-8c92-a6c4dae69d19",
    "_uuid": "8f2839f25d086af736a60e9eeb907d3b93b6e0e5"
   },
   "source": [
    "## EDA for the popular battle royale game PUBG"
   ]
  },
  {
   "cell_type": "markdown",
   "metadata": {
    "_uuid": "56df64617dd437ab1d38b9a85aa247e1367f21e9"
   },
   "source": [
    "<img src=\"https://pmcvariety.files.wordpress.com/2018/04/pubg.jpg?w=1000&h=563&crop=1\" alt=\"PUBG\" style=\"width: 750px;\"/>\n",
    "\n",
    "This kernel features:\n",
    "- [The Killers](#The-Killers)\n",
    "- [The Runners](#The-Runners)\n",
    "- [The Drivers](#The-Drivers)\n",
    "- [The Swimmers](#The-Swimmers)\n",
    "- [The Healers](#The-Healers)\n",
    "- [Solos, Duos and Squads](#Solos,-Duos-and-Squads)\n",
    "- [Correlation](#Pearson-correlation-between-variables)\n",
    "- [Feature Engineering](#Feature-Engineering)"
   ]
  },
  {
   "cell_type": "code",
   "execution_count": 3,
   "metadata": {
    "_cell_guid": "79c7e3d0-c299-4dcb-8224-4455121ee9b0",
    "_uuid": "d629ff2d2480ee46fbb7e2d37f6b5fab8052498a"
   },
   "outputs": [],
   "source": [
    "import numpy as np\n",
    "import pandas as pd\n",
    "import matplotlib.pyplot as plt\n",
    "import seaborn as sns \n",
    "import warnings\n",
    "warnings.filterwarnings(\"ignore\")"
   ]
  },
  {
   "cell_type": "code",
   "execution_count": 5,
   "metadata": {
    "_uuid": "cd7faf5469807efd1e0288911c29039c159cc766"
   },
   "outputs": [],
   "source": [
    "train = pd.read_csv('../data/train_V2.csv')"
   ]
  },
  {
   "cell_type": "code",
   "execution_count": 6,
   "metadata": {
    "_uuid": "75603081338ede768b795077de3d37b28055e69e"
   },
   "outputs": [
    {
     "name": "stdout",
     "output_type": "stream",
     "text": [
      "<class 'pandas.core.frame.DataFrame'>\n",
      "RangeIndex: 4446966 entries, 0 to 4446965\n",
      "Data columns (total 29 columns):\n",
      "Id                 object\n",
      "groupId            object\n",
      "matchId            object\n",
      "assists            int64\n",
      "boosts             int64\n",
      "damageDealt        float64\n",
      "DBNOs              int64\n",
      "headshotKills      int64\n",
      "heals              int64\n",
      "killPlace          int64\n",
      "killPoints         int64\n",
      "kills              int64\n",
      "killStreaks        int64\n",
      "longestKill        float64\n",
      "matchDuration      int64\n",
      "matchType          object\n",
      "maxPlace           int64\n",
      "numGroups          int64\n",
      "rankPoints         int64\n",
      "revives            int64\n",
      "rideDistance       float64\n",
      "roadKills          int64\n",
      "swimDistance       float64\n",
      "teamKills          int64\n",
      "vehicleDestroys    int64\n",
      "walkDistance       float64\n",
      "weaponsAcquired    int64\n",
      "winPoints          int64\n",
      "winPlacePerc       float64\n",
      "dtypes: float64(6), int64(19), object(4)\n",
      "memory usage: 983.9+ MB\n"
     ]
    }
   ],
   "source": [
    "train.info()"
   ]
  },
  {
   "cell_type": "markdown",
   "metadata": {
    "_uuid": "b134082576013d0b5f6b61b96f9fbeac24118823"
   },
   "source": [
    "- **groupId** - Integer ID to identify a group within a match. If the same group of players plays in different matches, they will have a different groupId each time.\n",
    "- **matchId** - Integer ID to identify match. There are no matches that are in both the training and testing set.\n",
    "- **assists** - Number of enemy players this player damaged that were killed by teammates.\n",
    "- **boosts** - Number of boost items used.\n",
    "- **damageDealt** - Total damage dealt. Note: Self inflicted damage is subtracted.\n",
    "- **DBNOs** - Number of enemy players knocked.\n",
    "- **headshotKills** - Number of enemy players killed with headshots.\n",
    "- **heals** - Number of healing items used.\n",
    "- **killPlace** - Ranking in match of number of enemy players killed.\n",
    "- **killPoints** - Kills-based external ranking of player. (Think of this as an Elo ranking where only kills matter.)\n",
    "- **kills** - Number of enemy players killed.\n",
    "- **killStreaks** - Max number of enemy players killed in a short amount of time.\n",
    "- **longestKill** - Longest distance between player and player killed at time of death. This may be misleading, as downing a - player and driving away may lead to a large longestKill stat.\n",
    "- **maxPlace** - Worst placement we have data for in the match. This may not match with numGroups, as sometimes the data skips over placements.\n",
    "- **numGroups** - Number of groups we have data for in the match.\n",
    "- **revives** - Number of times this player revived teammates.\n",
    "- **rideDistance** - Total distance traveled in vehicles measured in meters.\n",
    "- **roadKills** - Number of kills while in a vehicle.\n",
    "- **swimDistance** - Total distance traveled by swimming measured in meters.\n",
    "- **teamKills** - Number of times this player killed a teammate.\n",
    "- **vehicleDestroys** - Number of vehicles destroyed.\n",
    "- **walkDistance** - Total distance traveled on foot measured in meters.\n",
    "- **weaponsAcquired** - Number of weapons picked up.\n",
    "- **winPoints** - Win-based external ranking of player. (Think of this as an Elo ranking where only winning matters.)\n",
    "- **winPlacePerc** - The target of prediction. This is a percentile winning placement, where 1 corresponds to 1st place, and 0 corresponds to last place in the match. It is calculated off of maxPlace, not numGroups, so it is possible to have missing chunks in a match."
   ]
  },
  {
   "cell_type": "code",
   "execution_count": 7,
   "metadata": {
    "_uuid": "b825964c7c1831298a39a636f5fcc1117900db6f"
   },
   "outputs": [
    {
     "data": {
      "text/html": [
       "<div>\n",
       "<style scoped>\n",
       "    .dataframe tbody tr th:only-of-type {\n",
       "        vertical-align: middle;\n",
       "    }\n",
       "\n",
       "    .dataframe tbody tr th {\n",
       "        vertical-align: top;\n",
       "    }\n",
       "\n",
       "    .dataframe thead th {\n",
       "        text-align: right;\n",
       "    }\n",
       "</style>\n",
       "<table border=\"1\" class=\"dataframe\">\n",
       "  <thead>\n",
       "    <tr style=\"text-align: right;\">\n",
       "      <th></th>\n",
       "      <th>Id</th>\n",
       "      <th>groupId</th>\n",
       "      <th>matchId</th>\n",
       "      <th>assists</th>\n",
       "      <th>boosts</th>\n",
       "      <th>damageDealt</th>\n",
       "      <th>DBNOs</th>\n",
       "      <th>headshotKills</th>\n",
       "      <th>heals</th>\n",
       "      <th>killPlace</th>\n",
       "      <th>...</th>\n",
       "      <th>revives</th>\n",
       "      <th>rideDistance</th>\n",
       "      <th>roadKills</th>\n",
       "      <th>swimDistance</th>\n",
       "      <th>teamKills</th>\n",
       "      <th>vehicleDestroys</th>\n",
       "      <th>walkDistance</th>\n",
       "      <th>weaponsAcquired</th>\n",
       "      <th>winPoints</th>\n",
       "      <th>winPlacePerc</th>\n",
       "    </tr>\n",
       "  </thead>\n",
       "  <tbody>\n",
       "    <tr>\n",
       "      <th>0</th>\n",
       "      <td>7f96b2f878858a</td>\n",
       "      <td>4d4b580de459be</td>\n",
       "      <td>a10357fd1a4a91</td>\n",
       "      <td>0</td>\n",
       "      <td>0</td>\n",
       "      <td>0.00</td>\n",
       "      <td>0</td>\n",
       "      <td>0</td>\n",
       "      <td>0</td>\n",
       "      <td>60</td>\n",
       "      <td>...</td>\n",
       "      <td>0</td>\n",
       "      <td>0.0000</td>\n",
       "      <td>0</td>\n",
       "      <td>0.00</td>\n",
       "      <td>0</td>\n",
       "      <td>0</td>\n",
       "      <td>244.80</td>\n",
       "      <td>1</td>\n",
       "      <td>1466</td>\n",
       "      <td>0.4444</td>\n",
       "    </tr>\n",
       "    <tr>\n",
       "      <th>1</th>\n",
       "      <td>eef90569b9d03c</td>\n",
       "      <td>684d5656442f9e</td>\n",
       "      <td>aeb375fc57110c</td>\n",
       "      <td>0</td>\n",
       "      <td>0</td>\n",
       "      <td>91.47</td>\n",
       "      <td>0</td>\n",
       "      <td>0</td>\n",
       "      <td>0</td>\n",
       "      <td>57</td>\n",
       "      <td>...</td>\n",
       "      <td>0</td>\n",
       "      <td>0.0045</td>\n",
       "      <td>0</td>\n",
       "      <td>11.04</td>\n",
       "      <td>0</td>\n",
       "      <td>0</td>\n",
       "      <td>1434.00</td>\n",
       "      <td>5</td>\n",
       "      <td>0</td>\n",
       "      <td>0.6400</td>\n",
       "    </tr>\n",
       "    <tr>\n",
       "      <th>2</th>\n",
       "      <td>1eaf90ac73de72</td>\n",
       "      <td>6a4a42c3245a74</td>\n",
       "      <td>110163d8bb94ae</td>\n",
       "      <td>1</td>\n",
       "      <td>0</td>\n",
       "      <td>68.00</td>\n",
       "      <td>0</td>\n",
       "      <td>0</td>\n",
       "      <td>0</td>\n",
       "      <td>47</td>\n",
       "      <td>...</td>\n",
       "      <td>0</td>\n",
       "      <td>0.0000</td>\n",
       "      <td>0</td>\n",
       "      <td>0.00</td>\n",
       "      <td>0</td>\n",
       "      <td>0</td>\n",
       "      <td>161.80</td>\n",
       "      <td>2</td>\n",
       "      <td>0</td>\n",
       "      <td>0.7755</td>\n",
       "    </tr>\n",
       "    <tr>\n",
       "      <th>3</th>\n",
       "      <td>4616d365dd2853</td>\n",
       "      <td>a930a9c79cd721</td>\n",
       "      <td>f1f1f4ef412d7e</td>\n",
       "      <td>0</td>\n",
       "      <td>0</td>\n",
       "      <td>32.90</td>\n",
       "      <td>0</td>\n",
       "      <td>0</td>\n",
       "      <td>0</td>\n",
       "      <td>75</td>\n",
       "      <td>...</td>\n",
       "      <td>0</td>\n",
       "      <td>0.0000</td>\n",
       "      <td>0</td>\n",
       "      <td>0.00</td>\n",
       "      <td>0</td>\n",
       "      <td>0</td>\n",
       "      <td>202.70</td>\n",
       "      <td>3</td>\n",
       "      <td>0</td>\n",
       "      <td>0.1667</td>\n",
       "    </tr>\n",
       "    <tr>\n",
       "      <th>4</th>\n",
       "      <td>315c96c26c9aac</td>\n",
       "      <td>de04010b3458dd</td>\n",
       "      <td>6dc8ff871e21e6</td>\n",
       "      <td>0</td>\n",
       "      <td>0</td>\n",
       "      <td>100.00</td>\n",
       "      <td>0</td>\n",
       "      <td>0</td>\n",
       "      <td>0</td>\n",
       "      <td>45</td>\n",
       "      <td>...</td>\n",
       "      <td>0</td>\n",
       "      <td>0.0000</td>\n",
       "      <td>0</td>\n",
       "      <td>0.00</td>\n",
       "      <td>0</td>\n",
       "      <td>0</td>\n",
       "      <td>49.75</td>\n",
       "      <td>2</td>\n",
       "      <td>0</td>\n",
       "      <td>0.1875</td>\n",
       "    </tr>\n",
       "  </tbody>\n",
       "</table>\n",
       "<p>5 rows × 29 columns</p>\n",
       "</div>"
      ],
      "text/plain": [
       "               Id         groupId         matchId  assists  boosts  \\\n",
       "0  7f96b2f878858a  4d4b580de459be  a10357fd1a4a91        0       0   \n",
       "1  eef90569b9d03c  684d5656442f9e  aeb375fc57110c        0       0   \n",
       "2  1eaf90ac73de72  6a4a42c3245a74  110163d8bb94ae        1       0   \n",
       "3  4616d365dd2853  a930a9c79cd721  f1f1f4ef412d7e        0       0   \n",
       "4  315c96c26c9aac  de04010b3458dd  6dc8ff871e21e6        0       0   \n",
       "\n",
       "   damageDealt  DBNOs  headshotKills  heals  killPlace      ...       revives  \\\n",
       "0         0.00      0              0      0         60      ...             0   \n",
       "1        91.47      0              0      0         57      ...             0   \n",
       "2        68.00      0              0      0         47      ...             0   \n",
       "3        32.90      0              0      0         75      ...             0   \n",
       "4       100.00      0              0      0         45      ...             0   \n",
       "\n",
       "   rideDistance  roadKills  swimDistance  teamKills vehicleDestroys  \\\n",
       "0        0.0000          0          0.00          0               0   \n",
       "1        0.0045          0         11.04          0               0   \n",
       "2        0.0000          0          0.00          0               0   \n",
       "3        0.0000          0          0.00          0               0   \n",
       "4        0.0000          0          0.00          0               0   \n",
       "\n",
       "   walkDistance  weaponsAcquired  winPoints  winPlacePerc  \n",
       "0        244.80                1       1466        0.4444  \n",
       "1       1434.00                5          0        0.6400  \n",
       "2        161.80                2          0        0.7755  \n",
       "3        202.70                3          0        0.1667  \n",
       "4         49.75                2          0        0.1875  \n",
       "\n",
       "[5 rows x 29 columns]"
      ]
     },
     "execution_count": 7,
     "metadata": {},
     "output_type": "execute_result"
    }
   ],
   "source": [
    "train.head()"
   ]
  },
  {
   "cell_type": "markdown",
   "metadata": {
    "_uuid": "c83a2d1fcfdc5897f0343ecae2d25d8190629118"
   },
   "source": [
    "Ok, now that we have a glimpse of the data, let's explore them."
   ]
  },
  {
   "cell_type": "markdown",
   "metadata": {
    "_uuid": "afc3ad098209a48b6a6d08812f83f44badc057d5"
   },
   "source": [
    "## The Killers"
   ]
  },
  {
   "cell_type": "markdown",
   "metadata": {
    "_uuid": "b2b96f17298007d7afd12598902328ef883ca95f"
   },
   "source": [
    "<img src=\"https://i.ytimg.com/vi/rnAeX795Jn0/maxresdefault.jpg\" alt=\"The Killers\" style=\"width: 700px;\"/>"
   ]
  },
  {
   "cell_type": "code",
   "execution_count": 8,
   "metadata": {
    "_uuid": "e19654a6089ca7ee8b501a7a458a87b2eda0955d"
   },
   "outputs": [
    {
     "name": "stdout",
     "output_type": "stream",
     "text": [
      "The average person kills 0.9248 players, 99% of people have 7.0 kills or less, while the most kills ever recorded is 72.\n"
     ]
    }
   ],
   "source": [
    "print(\"The average person kills {:.4f} players, 99% of people have {} kills or less, while the most kills ever recorded is {}.\".format(train['kills'].mean(),train['kills'].quantile(0.99), train['kills'].max()))"
   ]
  },
  {
   "cell_type": "markdown",
   "metadata": {
    "_uuid": "db25a015b9a28714c5d87bc9ab01a451468ffaa2"
   },
   "source": [
    "Let's plot the kill counts."
   ]
  },
  {
   "cell_type": "code",
   "execution_count": 9,
   "metadata": {
    "_uuid": "87d864342a5b4416f4941d7ae04d3be328fb390d"
   },
   "outputs": [
    {
     "data": {
      "image/png": "[encoded data removed]",
      "text/plain": [
       "<Figure size 1080x720 with 1 Axes>"
      ]
     },
     "metadata": {},
     "output_type": "display_data"
    }
   ],
   "source": [
    "data = train.copy()\n",
    "data.loc[data['kills'] > data['kills'].quantile(0.99)] = '8+'\n",
    "plt.figure(figsize=(15,10))\n",
    "sns.countplot(data['kills'].astype('str').sort_values())\n",
    "plt.title(\"Kill Count\",fontsize=15)\n",
    "plt.show()"
   ]
  },
  {
   "cell_type": "markdown",
   "metadata": {
    "_uuid": "e317d4ff6543d7e64b5f6094ebcd078b4aa6186b"
   },
   "source": [
    "Most people can't make a single kill. At least do they do damage?"
   ]
  },
  {
   "cell_type": "code",
   "execution_count": 10,
   "metadata": {
    "_uuid": "678f5c7a919aca83642ae914aad57dc4924c4b69"
   },
   "outputs": [
    {
     "data": {
      "image/png": "[encoded data removed]",
      "text/plain": [
       "<Figure size 1080x720 with 1 Axes>"
      ]
     },
     "metadata": {},
     "output_type": "display_data"
    }
   ],
   "source": [
    "data = train.copy()\n",
    "data = data[data['kills']==0]\n",
    "plt.figure(figsize=(15,10))\n",
    "plt.title(\"Damage Dealt by 0 killers\",fontsize=15)\n",
    "sns.distplot(data['damageDealt'])\n",
    "plt.show()"
   ]
  },
  {
   "cell_type": "markdown",
   "metadata": {
    "_uuid": "2753afee51181e45ac9c81da8a4cbe5cbd6fc7fb"
   },
   "source": [
    "Well, most of them don't. Let's investigate the exceptions."
   ]
  },
  {
   "cell_type": "code",
   "execution_count": 11,
   "metadata": {
    "_uuid": "edeb102b5f5ea67f05fb3745f1d8e40840a82ab0"
   },
   "outputs": [
    {
     "name": "stdout",
     "output_type": "stream",
     "text": [
      "16666 players (0.3748%) have won without a single kill!\n",
      "4770 players (0.1073%) have won without dealing damage!\n"
     ]
    }
   ],
   "source": [
    "print(\"{} players ({:.4f}%) have won without a single kill!\".format(len(data[data['winPlacePerc']==1]), 100*len(data[data['winPlacePerc']==1])/len(train)))\n",
    "\n",
    "data1 = train[train['damageDealt'] == 0].copy()\n",
    "print(\"{} players ({:.4f}%) have won without dealing damage!\".format(len(data1[data1['winPlacePerc']==1]), 100*len(data1[data1['winPlacePerc']==1])/len(train)))"
   ]
  },
  {
   "cell_type": "markdown",
   "metadata": {
    "_uuid": "0f51e71ef3f167eb489a987c32660ba94eb2d6a5"
   },
   "source": [
    "Plot win placement percentage vs kills."
   ]
  },
  {
   "cell_type": "code",
   "execution_count": 12,
   "metadata": {
    "_uuid": "b0869ca6528eadc358980529e96a8566d683bd55"
   },
   "outputs": [
    {
     "data": {
      "image/png": "[encoded data removed]",
      "text/plain": [
       "<Figure size 720x720 with 3 Axes>"
      ]
     },
     "metadata": {},
     "output_type": "display_data"
    }
   ],
   "source": [
    "sns.jointplot(x=\"winPlacePerc\", y=\"kills\", data=train, height=10, ratio=3, color=\"r\")\n",
    "plt.show()"
   ]
  },
  {
   "cell_type": "markdown",
   "metadata": {
    "_uuid": "11164a74dcd3a59f2bf69f856206772cfe7e2aaf"
   },
   "source": [
    "Apparentrly killing has a correlation with winning. Finally let's group players based on kills (0 kills, 1-2 kills, 3-5 kills, 6-10 kills and 10+ kills)."
   ]
  },
  {
   "cell_type": "code",
   "execution_count": 13,
   "metadata": {
    "_uuid": "2aa5ad93271fd12d94f848ed79451e88fdd2412c"
   },
   "outputs": [
    {
     "data": {
      "image/png": "[encoded data removed]",
      "text/plain": [
       "<Figure size 1080x576 with 1 Axes>"
      ]
     },
     "metadata": {},
     "output_type": "display_data"
    }
   ],
   "source": [
    "kills = train.copy()\n",
    "\n",
    "kills['killsCategories'] = pd.cut(kills['kills'], [-1, 0, 2, 5, 10, 60], labels=['0_kills','1-2_kills', '3-5_kills', '6-10_kills', '10+_kills'])\n",
    "\n",
    "plt.figure(figsize=(15,8))\n",
    "sns.boxplot(x=\"killsCategories\", y=\"winPlacePerc\", data=kills)\n",
    "plt.show()"
   ]
  },
  {
   "cell_type": "markdown",
   "metadata": {
    "_uuid": "dac359f1fe1da57d154e6ce99339d8838c903234"
   },
   "source": [
    "## The Runners"
   ]
  },
  {
   "cell_type": "markdown",
   "metadata": {
    "_uuid": "9e8f981b12fa51bce1de3599a9eb3090d139c878"
   },
   "source": [
    "<img src=\"https://steemitimages.com/DQmRmYLRxu1vUhVtnFAA6bHFbShtr7Wdv1wLrPjdxbRZsjc/maxresdefault%20(2).jpg\" alt=\"The Runners\" style=\"width: 700px;\"/>"
   ]
  },
  {
   "cell_type": "code",
   "execution_count": null,
   "metadata": {
    "_uuid": "f73f576a7be0ba20bffdbc1564c7fe2a3fe6b81a"
   },
   "outputs": [],
   "source": [
    "print(\"The average person walks for {:.1f}m, 99% of people have walked {}m or less, while the marathoner champion walked for {}m.\".format(train['walkDistance'].mean(), train['walkDistance'].quantile(0.99), train['walkDistance'].max()))"
   ]
  },
  {
   "cell_type": "code",
   "execution_count": null,
   "metadata": {
    "_uuid": "f1c79089560aacb1e964a6bbdb12ae7483055c5f"
   },
   "outputs": [],
   "source": [
    "data = train.copy()\n",
    "data = data[data['walkDistance'] < train['walkDistance'].quantile(0.99)]\n",
    "plt.figure(figsize=(15,10))\n",
    "plt.title(\"Walking Distance Distribution\",fontsize=15)\n",
    "sns.distplot(data['walkDistance'])\n",
    "plt.show()"
   ]
  },
  {
   "cell_type": "code",
   "execution_count": null,
   "metadata": {
    "_uuid": "c97534b368d47a1fd3f4b9dee9aef37fe8a0e95e"
   },
   "outputs": [],
   "source": [
    "print(\"{} players ({:.4f}%) walked 0 meters. This means that they die before even taking a step or they are afk (more possible).\".format(len(data[data['walkDistance'] == 0]), 100*len(data1[data1['walkDistance']==0])/len(train)))"
   ]
  },
  {
   "cell_type": "code",
   "execution_count": null,
   "metadata": {
    "_uuid": "8912c45996f390c51cc17eeb502cc3bf81986fa8"
   },
   "outputs": [],
   "source": [
    "sns.jointplot(x=\"winPlacePerc\", y=\"walkDistance\",  data=train, height=10, ratio=3, color=\"lime\")\n",
    "plt.show()"
   ]
  },
  {
   "cell_type": "markdown",
   "metadata": {
    "_uuid": "132a915f5b3cfd114bb985f3132aa1f2cc2ee084"
   },
   "source": [
    "Apparently walking has a high correlation with winPlacePerc."
   ]
  },
  {
   "cell_type": "markdown",
   "metadata": {
    "_uuid": "b83c43b88a8ab437ff6991a7e23910e593dd5f30"
   },
   "source": [
    "## The Drivers"
   ]
  },
  {
   "cell_type": "markdown",
   "metadata": {
    "_uuid": "e4cd005fd08d97c14aa9b60d9516d570a0190bff"
   },
   "source": [
    "<img src=\"http://cdn.gamer-network.net/2018/metabomb/pubghowtodrivecarsandbikes.jpg\" alt=\"The Drivers\" style=\"width: 700px;\"/>"
   ]
  },
  {
   "cell_type": "code",
   "execution_count": null,
   "metadata": {
    "_uuid": "81b28ade7304d7f8aa043efd8cca46aef6c39a69"
   },
   "outputs": [],
   "source": [
    "print(\"The average person drives for {:.1f}m, 99% of people have drived {}m or less, while the formula 1 champion drived for {}m.\".format(train['rideDistance'].mean(), train['rideDistance'].quantile(0.99), train['rideDistance'].max()))"
   ]
  },
  {
   "cell_type": "code",
   "execution_count": null,
   "metadata": {
    "_uuid": "2c4e020ab4fb7b728f9712ad9509c021579137cc"
   },
   "outputs": [],
   "source": [
    "data = train.copy()\n",
    "data = data[data['rideDistance'] < train['rideDistance'].quantile(0.9)]\n",
    "plt.figure(figsize=(15,10))\n",
    "plt.title(\"Ride Distance Distribution\",fontsize=15)\n",
    "sns.distplot(data['rideDistance'])\n",
    "plt.show()"
   ]
  },
  {
   "cell_type": "code",
   "execution_count": null,
   "metadata": {
    "_uuid": "a24d56aacf12651bc1b5ea0c95cad3f9c9ff84e8"
   },
   "outputs": [],
   "source": [
    "print(\"{} players ({:.4f}%) drived for 0 meters. This means that they don't have a driving licence yet.\".format(len(data[data['rideDistance'] == 0]), 100*len(data1[data1['rideDistance']==0])/len(train)))"
   ]
  },
  {
   "cell_type": "code",
   "execution_count": null,
   "metadata": {
    "_uuid": "c5eab64152ea9fc64820138bcfe66c38a063d405"
   },
   "outputs": [],
   "source": [
    "sns.jointplot(x=\"winPlacePerc\", y=\"rideDistance\", data=train, height=10, ratio=3, color=\"y\")\n",
    "plt.show()"
   ]
  },
  {
   "cell_type": "markdown",
   "metadata": {
    "_uuid": "c3310484860646817e2d056b7f7093d6f843b091"
   },
   "source": [
    "There is a small correlation between rideDistance and winPlacePerc."
   ]
  },
  {
   "cell_type": "markdown",
   "metadata": {
    "_uuid": "efcfcd81659b7e9f46dc91bab932b11e74963c68"
   },
   "source": [
    "Destroying a vehicle in my experience shows that a player has skills. Let's check it."
   ]
  },
  {
   "cell_type": "code",
   "execution_count": null,
   "metadata": {
    "_uuid": "9d724eea56214d29398c107072b5a6fe15747353"
   },
   "outputs": [],
   "source": [
    "f,ax1 = plt.subplots(figsize =(20,10))\n",
    "sns.pointplot(x='vehicleDestroys',y='winPlacePerc',data=data,color='#606060',alpha=0.8)\n",
    "plt.xlabel('Number of Vehicle Destroys',fontsize = 15,color='blue')\n",
    "plt.ylabel('Win Percentage',fontsize = 15,color='blue')\n",
    "plt.title('Vehicle Destroys/ Win Ratio',fontsize = 20,color='blue')\n",
    "plt.grid()\n",
    "plt.show()"
   ]
  },
  {
   "cell_type": "markdown",
   "metadata": {
    "_uuid": "9ac722b4f8719b20a9bc4640c9c0f7284088529c"
   },
   "source": [
    "My experience was correct. Destroying a single vehicle increases your chances of winning!"
   ]
  },
  {
   "cell_type": "markdown",
   "metadata": {
    "_uuid": "73c4404020e715de14582922e44110c7fb7d147f"
   },
   "source": [
    "## The Swimmers"
   ]
  },
  {
   "cell_type": "markdown",
   "metadata": {
    "_uuid": "0d149d12fd984f082587c8c177392f972640862e"
   },
   "source": [
    "<img src=\"https://i.ytimg.com/vi/tQxzsE0DijQ/maxresdefault.jpg\" alt=\"The Swimmers\" style=\"width: 700px;\"/>"
   ]
  },
  {
   "cell_type": "code",
   "execution_count": null,
   "metadata": {
    "_uuid": "6eb24043e1f2ef1db0a769674facebd947485fe2"
   },
   "outputs": [],
   "source": [
    "print(\"The average person swims for {:.1f}m, 99% of people have swimemd {}m or less, while the olympic champion swimmed for {}m.\".format(train['swimDistance'].mean(), train['swimDistance'].quantile(0.99), train['swimDistance'].max()))"
   ]
  },
  {
   "cell_type": "code",
   "execution_count": null,
   "metadata": {
    "_uuid": "3159a5d5d276a87f2ef5f7fe9e32d5303b2fff28"
   },
   "outputs": [],
   "source": [
    "data = train.copy()\n",
    "data = data[data['swimDistance'] < train['swimDistance'].quantile(0.95)]\n",
    "plt.figure(figsize=(15,10))\n",
    "plt.title(\"Swim Distance Distribution\",fontsize=15)\n",
    "sns.distplot(data['swimDistance'])\n",
    "plt.show()"
   ]
  },
  {
   "cell_type": "markdown",
   "metadata": {
    "_uuid": "1ac624c0e7639c7770557cbec235c1f4793226b5"
   },
   "source": [
    "Almost no one swims. Let's group the swimming distances in 4 categories and plot vs winPlacePerc."
   ]
  },
  {
   "cell_type": "code",
   "execution_count": null,
   "metadata": {
    "_uuid": "26cacc16e14a0d26691e6fac1ae1fc3ba8ccfc41"
   },
   "outputs": [],
   "source": [
    "swim = train.copy()\n",
    "\n",
    "swim['swimDistance'] = pd.cut(swim['swimDistance'], [-1, 0, 5, 20, 5286], labels=['0m','1-5m', '6-20m', '20m+'])\n",
    "\n",
    "plt.figure(figsize=(15,8))\n",
    "sns.boxplot(x=\"swimDistance\", y=\"winPlacePerc\", data=swim)\n",
    "plt.show()"
   ]
  },
  {
   "cell_type": "markdown",
   "metadata": {
    "_uuid": "d49d3b84ab25c9e410bdd0015cab0e5086c95809"
   },
   "source": [
    "It seems that if you swim, you rise to the top. In PUBG there are currently 3 maps. One of them has almost no water. Keep that in mind. I might plan on doing analysis to find out in which map a match is played."
   ]
  },
  {
   "cell_type": "markdown",
   "metadata": {
    "_uuid": "33cfc4ad277d2a88624875fc43f65185dc65f4d1"
   },
   "source": [
    "## The Healers"
   ]
  },
  {
   "cell_type": "markdown",
   "metadata": {
    "_uuid": "c9692f2fd618f24860d3fe547036b8de06872bda"
   },
   "source": [
    "<img src=\"https://i.ytimg.com/vi/xfI9XljX51k/maxresdefault.jpg\" alt=\"The Healers\" style=\"width: 700px;\"/>"
   ]
  },
  {
   "cell_type": "code",
   "execution_count": null,
   "metadata": {
    "_uuid": "2e8170661f132a6db3a3567755d1b804abd99c6f"
   },
   "outputs": [],
   "source": [
    "print(\"The average person uses {:.1f} heal items, 99% of people use {} or less, while the doctor used {}.\".format(train['heals'].mean(), train['heals'].quantile(0.99), train['heals'].max()))\n",
    "print(\"The average person uses {:.1f} boost items, 99% of people use {} or less, while the doctor used {}.\".format(train['boosts'].mean(), train['boosts'].quantile(0.99), train['boosts'].max()))"
   ]
  },
  {
   "cell_type": "code",
   "execution_count": null,
   "metadata": {
    "_uuid": "e1359b98eb53329fd013744aab5377d343f7192e"
   },
   "outputs": [],
   "source": [
    "data = train.copy()\n",
    "data = data[data['heals'] < data['heals'].quantile(0.99)]\n",
    "data = data[data['boosts'] < data['boosts'].quantile(0.99)]\n",
    "\n",
    "f,ax1 = plt.subplots(figsize =(20,10))\n",
    "sns.pointplot(x='heals',y='winPlacePerc',data=data,color='lime',alpha=0.8)\n",
    "sns.pointplot(x='boosts',y='winPlacePerc',data=data,color='blue',alpha=0.8)\n",
    "plt.text(4,0.6,'Heals',color='lime',fontsize = 17,style = 'italic')\n",
    "plt.text(4,0.55,'Boosts',color='blue',fontsize = 17,style = 'italic')\n",
    "plt.xlabel('Number of heal/boost items',fontsize = 15,color='blue')\n",
    "plt.ylabel('Win Percentage',fontsize = 15,color='blue')\n",
    "plt.title('Heals vs Boosts',fontsize = 20,color='blue')\n",
    "plt.grid()\n",
    "plt.show()"
   ]
  },
  {
   "cell_type": "code",
   "execution_count": null,
   "metadata": {
    "_uuid": "13917987cfbc6cdbc56491eeb8f4064a3e58d438"
   },
   "outputs": [],
   "source": [
    "sns.jointplot(x=\"winPlacePerc\", y=\"heals\", data=train, height=10, ratio=3, color=\"lime\")\n",
    "plt.show()"
   ]
  },
  {
   "cell_type": "code",
   "execution_count": null,
   "metadata": {
    "_uuid": "771af55a67461a017917e038502e07d06de4bfff"
   },
   "outputs": [],
   "source": [
    "sns.jointplot(x=\"winPlacePerc\", y=\"boosts\", data=train, height=10, ratio=3, color=\"blue\")\n",
    "plt.show()"
   ]
  },
  {
   "cell_type": "markdown",
   "metadata": {
    "_uuid": "98f9e5cbd98df184c94f81c0c2b6f2476bb393d0"
   },
   "source": [
    "So healing and boosting, definitely are correlated with winPlacePerc. Boosting is more."
   ]
  },
  {
   "cell_type": "markdown",
   "metadata": {
    "_uuid": "57adf6b5f7c59df47f6b4d2a35d8bc347b8e76aa"
   },
   "source": [
    "In every plot, there is an abnormal behavior when values are 0."
   ]
  },
  {
   "cell_type": "markdown",
   "metadata": {
    "_uuid": "c18d1afd788f1b80804d5bd73df36708f5bf6bee"
   },
   "source": [
    "## Solos, Duos and Squads"
   ]
  },
  {
   "cell_type": "markdown",
   "metadata": {
    "_uuid": "060d11180ed3fc42d6497ff7a711ef08a74a2242"
   },
   "source": [
    "There are 3 game modes in the game. One can play solo, or with a friend (duo), or with 3 other friends (squad). 100 players join the same server, so in the case of duos the max teams are 50 and in the case of squads the max teams are 25. "
   ]
  },
  {
   "cell_type": "code",
   "execution_count": null,
   "metadata": {
    "_uuid": "e200bf30db6c983fe4d1a251ce519e5211f21721"
   },
   "outputs": [],
   "source": [
    "solos = train[train['numGroups']>50]\n",
    "duos = train[(train['numGroups']>25) & (train['numGroups']<=50)]\n",
    "squads = train[train['numGroups']<=25]\n",
    "print(\"There are {} ({:.2f}%) solo games, {} ({:.2f}%) duo games and {} ({:.2f}%) squad games.\".format(len(solos), 100*len(solos)/len(train), len(duos), 100*len(duos)/len(train), len(squads), 100*len(squads)/len(train),))"
   ]
  },
  {
   "cell_type": "code",
   "execution_count": null,
   "metadata": {
    "_uuid": "54d124c20e83b648bde0f187381481590f1a95d9",
    "scrolled": false
   },
   "outputs": [],
   "source": [
    "f,ax1 = plt.subplots(figsize =(20,10))\n",
    "sns.pointplot(x='kills',y='winPlacePerc',data=solos,color='black',alpha=0.8)\n",
    "sns.pointplot(x='kills',y='winPlacePerc',data=duos,color='#CC0000',alpha=0.8)\n",
    "sns.pointplot(x='kills',y='winPlacePerc',data=squads,color='#3399FF',alpha=0.8)\n",
    "plt.text(37,0.6,'Solos',color='black',fontsize = 17,style = 'italic')\n",
    "plt.text(37,0.55,'Duos',color='#CC0000',fontsize = 17,style = 'italic')\n",
    "plt.text(37,0.5,'Squads',color='#3399FF',fontsize = 17,style = 'italic')\n",
    "plt.xlabel('Number of kills',fontsize = 15,color='blue')\n",
    "plt.ylabel('Win Percentage',fontsize = 15,color='blue')\n",
    "plt.title('Solo vs Duo vs Squad Kills',fontsize = 20,color='blue')\n",
    "plt.grid()\n",
    "plt.show()"
   ]
  },
  {
   "cell_type": "markdown",
   "metadata": {
    "_uuid": "904a6b4e7a4461ebcb50bb47d4f707c4d0acfe6f"
   },
   "source": [
    "Hmm, very interesting. Solos and duos behave the same, but when playing squads kills don't matter that much."
   ]
  },
  {
   "cell_type": "markdown",
   "metadata": {
    "_uuid": "33e45372da409b69f725450877f64bb75533edf3"
   },
   "source": [
    "The attribute DBNOs means enemy players knocked. A \"knock\" can happen only in duos or squads, because the teammates have the chance to \"revive\" the knocked player in a given time. So a knocked player can be revived or die. If he is revived, the next time he will be knocked, his teammates will have less time to revive him.\n",
    "\n",
    "The attribute assist can also happen only in duos or squads. It generally means that the player had an involvement in a kill.\n",
    "\n",
    "The attribute revive also happens in duos or squads."
   ]
  },
  {
   "cell_type": "code",
   "execution_count": null,
   "metadata": {
    "_uuid": "9a7d62f7fef31ae4ea9097bc09120699a3e88da1"
   },
   "outputs": [],
   "source": [
    "f,ax1 = plt.subplots(figsize =(20,10))\n",
    "sns.pointplot(x='DBNOs',y='winPlacePerc',data=duos,color='#CC0000',alpha=0.8)\n",
    "sns.pointplot(x='DBNOs',y='winPlacePerc',data=squads,color='#3399FF',alpha=0.8)\n",
    "sns.pointplot(x='assists',y='winPlacePerc',data=duos,color='#FF6666',alpha=0.8)\n",
    "sns.pointplot(x='assists',y='winPlacePerc',data=squads,color='#CCE5FF',alpha=0.8)\n",
    "sns.pointplot(x='revives',y='winPlacePerc',data=duos,color='#660000',alpha=0.8)\n",
    "sns.pointplot(x='revives',y='winPlacePerc',data=squads,color='#000066',alpha=0.8)\n",
    "plt.text(14,0.5,'Duos - Assists',color='#FF6666',fontsize = 17,style = 'italic')\n",
    "plt.text(14,0.45,'Duos - DBNOs',color='#CC0000',fontsize = 17,style = 'italic')\n",
    "plt.text(14,0.4,'Duos - Revives',color='#660000',fontsize = 17,style = 'italic')\n",
    "plt.text(14,0.35,'Squads - Assists',color='#CCE5FF',fontsize = 17,style = 'italic')\n",
    "plt.text(14,0.3,'Squads - DBNOs',color='#3399FF',fontsize = 17,style = 'italic')\n",
    "plt.text(14,0.25,'Squads - Revives',color='#000066',fontsize = 17,style = 'italic')\n",
    "plt.xlabel('Number of DBNOs/Assits/Revives',fontsize = 15,color='blue')\n",
    "plt.ylabel('Win Percentage',fontsize = 15,color='blue')\n",
    "plt.title('Duo vs Squad DBNOs, Assists, and Revives',fontsize = 20,color='blue')\n",
    "plt.grid()\n",
    "plt.show()"
   ]
  },
  {
   "cell_type": "markdown",
   "metadata": {
    "_uuid": "37d3144a7ff5ffbf53bda6b47a9b46d48b942f08"
   },
   "source": [
    "## Pearson correlation between variables"
   ]
  },
  {
   "cell_type": "code",
   "execution_count": null,
   "metadata": {
    "_uuid": "6f6240ebf0e8e6632a9acfc8f4abbc0a966394fe"
   },
   "outputs": [],
   "source": [
    "f,ax = plt.subplots(figsize=(15, 15))\n",
    "sns.heatmap(train.corr(), annot=True, linewidths=.5, fmt= '.1f',ax=ax)\n",
    "plt.show()"
   ]
  },
  {
   "cell_type": "markdown",
   "metadata": {
    "_uuid": "64ae66b7074baa0dbd085d93ef43a58ef8ca3afb"
   },
   "source": [
    "In terms of the target variable (winPlacePerc), there are a few variables high medium to high correlation. The highest positive correlation is walkDistance and the highest negative the killPlace.\n",
    "\n",
    "**Let's zoom to the top-5 most positive correlated variables with the target.**"
   ]
  },
  {
   "cell_type": "code",
   "execution_count": null,
   "metadata": {
    "_uuid": "5717cf6a3db228c218657f77040160c11e92e48a"
   },
   "outputs": [],
   "source": [
    "k = 5 #number of variables for heatmap\n",
    "f,ax = plt.subplots(figsize=(11, 11))\n",
    "cols = train.corr().nlargest(k, 'winPlacePerc')['winPlacePerc'].index\n",
    "cm = np.corrcoef(train[cols].values.T)\n",
    "sns.set(font_scale=1.25)\n",
    "hm = sns.heatmap(cm, cbar=True, annot=True, square=True, fmt='.2f', annot_kws={'size': 10}, yticklabels=cols.values, xticklabels=cols.values)\n",
    "plt.show()"
   ]
  },
  {
   "cell_type": "markdown",
   "metadata": {
    "_uuid": "3a4689b5bc1ad699a6c19b9134acb609388519f2"
   },
   "source": [
    "Let's plot the above variables and the killPlace variable as pairs."
   ]
  },
  {
   "cell_type": "code",
   "execution_count": null,
   "metadata": {
    "_uuid": "e76de75e0e86d991dc7c5902e48fee949d2e0ee2"
   },
   "outputs": [],
   "source": [
    "sns.set()\n",
    "cols = ['winPlacePerc', 'walkDistance', 'boosts', 'weaponsAcquired', 'damageDealt', 'killPlace']\n",
    "sns.pairplot(train[cols], size = 2.5)\n",
    "plt.show()"
   ]
  },
  {
   "cell_type": "markdown",
   "metadata": {
    "_uuid": "b691c09b1b7808ac8285f81621d8d1e080f55823"
   },
   "source": [
    "## Feature Engineering"
   ]
  },
  {
   "cell_type": "markdown",
   "metadata": {
    "_uuid": "ea151797d8c73fa821d370e5d126c59c40aef883"
   },
   "source": [
    "A game in PUBG can have up to 100 players fighting each other. But most of the times a game isn't \"full\". There is no variable that gives us the number of players joined. So lets create one."
   ]
  },
  {
   "cell_type": "code",
   "execution_count": null,
   "metadata": {
    "_uuid": "169c81fdac7a2d00f5e0bc65128c78a6881653a0"
   },
   "outputs": [],
   "source": [
    "train['playersJoined'] = train.groupby('matchId')['matchId'].transform('count')"
   ]
  },
  {
   "cell_type": "code",
   "execution_count": null,
   "metadata": {
    "_uuid": "eaf3463b3210b5c0e77827c7fad08437b7c3da45"
   },
   "outputs": [],
   "source": [
    "data = train.copy()\n",
    "data = data[data['playersJoined']>49]\n",
    "plt.figure(figsize=(15,10))\n",
    "sns.countplot(data['playersJoined'])\n",
    "plt.title(\"Players Joined\",fontsize=15)\n",
    "plt.show()"
   ]
  },
  {
   "cell_type": "markdown",
   "metadata": {
    "_uuid": "d3f36b967fee90856ae7148966b5824a072f1b14"
   },
   "source": [
    "Based on the \"playersJoined\" feature we can create (or change) a lot of others to normalize their values. For example i will create the \"killsNorm\" and \"damageDealtNorm\" features. When there are 100 players in the game it might be easier to find and kill someone, than when there are 90 players. So i will normalize the kills in a way that a kill in 100 players will score 1 (as it is) and in 90 players it will score (100-90)/100 + 1 = 1.1. This is just an assumption. You can use different scales."
   ]
  },
  {
   "cell_type": "code",
   "execution_count": null,
   "metadata": {
    "_uuid": "06080713f8a668c3a0f7a0c3e89a8dd09a5e5243"
   },
   "outputs": [],
   "source": [
    "train['killsNorm'] = train['kills']*((100-train['playersJoined'])/100 + 1)\n",
    "train['damageDealtNorm'] = train['damageDealt']*((100-train['playersJoined'])/100 + 1)\n",
    "train[['playersJoined', 'kills', 'killsNorm', 'damageDealt', 'damageDealtNorm']][5:8]"
   ]
  },
  {
   "cell_type": "markdown",
   "metadata": {
    "_uuid": "442fd95f6645734719d397509531bcde9b63b784"
   },
   "source": [
    "Another simple feature is the sum of heals and boosts. Also the sum of total distance travelled."
   ]
  },
  {
   "cell_type": "code",
   "execution_count": null,
   "metadata": {
    "_uuid": "bc3a16f0303a3b0df86bced7ef9d9bc9368a7e4c"
   },
   "outputs": [],
   "source": [
    "train['healsAndBoosts'] = train['heals']+train['boosts']\n",
    "train['totalDistance'] = train['walkDistance']+train['rideDistance']+train['swimDistance']"
   ]
  },
  {
   "cell_type": "markdown",
   "metadata": {
    "_uuid": "322d9828be19114d9b4891bb8b1d3926d4a1dd5a"
   },
   "source": [
    "When using boosting items you run faster. They also help staying out of the zone (PUBG term) and loot more (meaning walking more). So lets create a feature boosts per walking distance. Heals don't make you run faster, but they also help staying out of the zone and loot more. So lets create the same feature for heals also."
   ]
  },
  {
   "cell_type": "code",
   "execution_count": null,
   "metadata": {
    "_uuid": "b482fabd0a90c9fcab4326a6871ee18a04bb166d"
   },
   "outputs": [],
   "source": [
    "train['boostsPerWalkDistance'] = train['boosts']/(train['walkDistance']+1) #The +1 is to avoid infinity, because there are entries where boosts>0 and walkDistance=0. Strange.\n",
    "train['boostsPerWalkDistance'].fillna(0, inplace=True)\n",
    "train['healsPerWalkDistance'] = train['heals']/(train['walkDistance']+1) #The +1 is to avoid infinity, because there are entries where heals>0 and walkDistance=0. Strange.\n",
    "train['healsPerWalkDistance'].fillna(0, inplace=True)\n",
    "train['healsAndBoostsPerWalkDistance'] = train['healsAndBoosts']/(train['walkDistance']+1) #The +1 is to avoid infinity.\n",
    "train['healsAndBoostsPerWalkDistance'].fillna(0, inplace=True)\n",
    "train[['walkDistance', 'boosts', 'boostsPerWalkDistance' ,'heals',  'healsPerWalkDistance', 'healsAndBoosts', 'healsAndBoostsPerWalkDistance']][40:45]"
   ]
  },
  {
   "cell_type": "markdown",
   "metadata": {
    "_uuid": "f7a0fe11dff20739547a68fed5889304bb19b69d"
   },
   "source": [
    "Same, let's create the feature \"killsPerWalkDistance\"."
   ]
  },
  {
   "cell_type": "code",
   "execution_count": null,
   "metadata": {
    "_uuid": "5e550855a451be3726e1afc029e12112e90b2f5e"
   },
   "outputs": [],
   "source": [
    "train['killsPerWalkDistance'] = train['kills']/(train['walkDistance']+1) #The +1 is to avoid infinity, because there are entries where kills>0 and walkDistance=0. Strange.\n",
    "train['killsPerWalkDistance'].fillna(0, inplace=True)\n",
    "train[['kills', 'walkDistance', 'rideDistance', 'killsPerWalkDistance', 'winPlacePerc']].sort_values(by='killsPerWalkDistance').tail(10)"
   ]
  },
  {
   "cell_type": "markdown",
   "metadata": {
    "_uuid": "64f14f5d26f37774f995d473ecb882fef8dcb9d9"
   },
   "source": [
    "0 walking distance and many kills? Also most have winPlacePerc=1. Definitelly cheaters."
   ]
  },
  {
   "cell_type": "markdown",
   "metadata": {
    "_uuid": "cca999dd31224007ff02cb835b56ec37f9535e39"
   },
   "source": [
    "Earlier in the kernel we did EDA for Solos, Duos and Squads. Lets create a column for them."
   ]
  },
  {
   "cell_type": "code",
   "execution_count": null,
   "metadata": {
    "_uuid": "7166ceb7a9357388621624664b61f0836d237e67"
   },
   "outputs": [],
   "source": [
    "train['team'] = [1 if i>50 else 2 if (i>25 & i<=50) else 4 for i in train['numGroups']]"
   ]
  },
  {
   "cell_type": "code",
   "execution_count": null,
   "metadata": {
    "_uuid": "7095ac5a949f9eeb464eee7d1a003f19479972c1"
   },
   "outputs": [],
   "source": [
    "train.head()"
   ]
  }
 ],
 "metadata": {
  "kernelspec": {
   "display_name": "Python 3",
   "language": "python",
   "name": "python3"
  },
  "language_info": {
   "codemirror_mode": {
    "name": "ipython",
    "version": 3
   },
   "file_extension": ".py",
   "mimetype": "text/x-python",
   "name": "python",
   "nbconvert_exporter": "python",
   "pygments_lexer": "ipython3",
   "version": "3.6.6"
  }
 },
 "nbformat": 4,
 "nbformat_minor": 1
}
